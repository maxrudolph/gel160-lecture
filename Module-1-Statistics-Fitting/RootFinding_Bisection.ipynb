{
 "cells": [
  {
   "cell_type": "code",
   "execution_count": null,
   "metadata": {},
   "outputs": [],
   "source": [
    "import numpy as np\n",
    "import matplotlib.pyplot as plt"
   ]
  },
  {
   "cell_type": "markdown",
   "metadata": {},
   "source": [
    "Consider the function\n",
    "\n",
    "$$f(x) = 3 x^2 + 2x -1$$\n",
    "\n",
    "You probably remember how to find the roots of this equation analytically using the quadratic formula. But how might we go about obtaining a solution to this equation numerically?\n",
    "\n",
    "One option is to use *bisection*. The way that bisection works is to first identify an interval in which the root exists."
   ]
  },
  {
   "cell_type": "code",
   "execution_count": null,
   "metadata": {},
   "outputs": [],
   "source": [
    "def f(x):\n",
    "    return 3*x**2 + 2*x - 1"
   ]
  },
  {
   "cell_type": "code",
   "execution_count": null,
   "metadata": {},
   "outputs": [],
   "source": [
    "x = np.linspace(-3,3,100)\n",
    "plt.figure()\n",
    "plt.plot(x,f(x))\n",
    "plt.plot(x,0*x,'k')\n",
    "plt.show()"
   ]
  },
  {
   "cell_type": "markdown",
   "metadata": {},
   "source": [
    "From the plot above, we can see that there must be a root of f(x) between x=0 and x=1."
   ]
  },
  {
   "cell_type": "markdown",
   "metadata": {},
   "source": [
    "The algorithm looks like this:\n",
    "Start by choosing xmin, xmax such that f(xmin)<0 and f(xmax)>0 OR f(xmin)>0 and f(xmax)<0\n",
    "```xguess = (xmin+xmax)/2\n",
    "while abs(f(xguess)) > tolerance:\n",
    "    if (f(xguess) > 0 and f(xmax) > 0) OR (f(xguess) < 0 and f(xmax) < 0):\n",
    "        xmax=xguess\n",
    "    else\n",
    "        xmin=xgueess\n",
    "    xguess = (xmin + xmax)/2\n",
    "```\n",
    "    "
   ]
  },
  {
   "cell_type": "code",
   "execution_count": null,
   "metadata": {},
   "outputs": [],
   "source": [
    "xmin=-3.\n",
    "xmax=0.\n",
    "print('f(xmin)=',f(xmin))\n",
    "print('f(xmax)=',f(xmax))\n",
    "tolerance = 1.0e-12\n",
    "xguess = (xmin+xmax)/2.\n",
    "while abs(f(xguess))>tolerance:\n",
    "    if( (f(xguess) > 0 and f(xmax) >0)  or  (f(xguess)<0 and f(xmax)<0) ):\n",
    "        xmax=xguess\n",
    "    else:\n",
    "        xmin=xguess\n",
    "    print('now searching betweeen ',xmin,' and ',xmax)\n",
    "    xguess = (xmin+xmax)/2.\n",
    "print('found solution x0 at ',xguess,' f(x0)=',f(xguess))"
   ]
  }
 ],
 "metadata": {
  "kernelspec": {
   "display_name": "Python 3 (ipykernel)",
   "language": "python",
   "name": "python3"
  },
  "language_info": {
   "codemirror_mode": {
    "name": "ipython",
    "version": 3
   },
   "file_extension": ".py",
   "mimetype": "text/x-python",
   "name": "python",
   "nbconvert_exporter": "python",
   "pygments_lexer": "ipython3",
   "version": "3.8.11"
  }
 },
 "nbformat": 4,
 "nbformat_minor": 2
}
