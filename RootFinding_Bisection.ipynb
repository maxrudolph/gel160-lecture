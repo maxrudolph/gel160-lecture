{
 "cells": [
  {
   "cell_type": "code",
   "execution_count": 11,
   "metadata": {},
   "outputs": [],
   "source": [
    "import numpy as np\n",
    "import matplotlib.pyplot as plt"
   ]
  },
  {
   "cell_type": "markdown",
   "metadata": {},
   "source": [
    "Consider the function\n",
    "\n",
    "$$f(x) = 3 x^2 + 2x -1$$\n",
    "\n",
    "You probably remember how to find the roots of this equation analytically using the quadratic formula. But how might we go about obtaining a solution to this equation numerically?\n",
    "\n",
    "One option is to use *bisection*. The way that bisection works is to first identify an interval in which the root exists."
   ]
  },
  {
   "cell_type": "code",
   "execution_count": 12,
   "metadata": {},
   "outputs": [],
   "source": [
    "def f(x):\n",
    "    return 3*x**2 + 2*x - 1"
   ]
  },
  {
   "cell_type": "code",
   "execution_count": 13,
   "metadata": {},
   "outputs": [
    {
     "data": {
      "image/png": "[encoded data removed]",
      "text/plain": [
       "<Figure size 432x288 with 1 Axes>"
      ]
     },
     "metadata": {
      "needs_background": "light"
     },
     "output_type": "display_data"
    }
   ],
   "source": [
    "x = np.linspace(-3,3,100)\n",
    "plt.figure()\n",
    "plt.plot(x,f(x))\n",
    "plt.plot(x,0*x,'k')\n",
    "plt.show()"
   ]
  },
  {
   "cell_type": "markdown",
   "metadata": {},
   "source": [
    "From the plot above, we can see that there must be a root of f(x) between x=0 and x=1."
   ]
  },
  {
   "cell_type": "markdown",
   "metadata": {},
   "source": [
    "The algorithm looks like this:\n",
    "Start by choosing xmin, xmax such that f(xmin)<0 and f(xmax)>0 OR f(xmin)>0 and f(xmax)<0\n",
    "```xguess = (xmin+xmax)/2\n",
    "while abs(f(xguess)) > tolerance:\n",
    "    if (f(xguess) > 0 and f(xmax) > 0) OR (f(xguess) < 0 and f(xmax) < 0):\n",
    "        xmax=xguess\n",
    "    else\n",
    "        xmin=xgueess\n",
    "    xguess = (xmin + xmax)/2\n",
    "```\n",
    "    "
   ]
  },
  {
   "cell_type": "code",
   "execution_count": 22,
   "metadata": {},
   "outputs": [
    {
     "name": "stdout",
     "output_type": "stream",
     "text": [
      "f(xmin)= 20.0\n",
      "f(xmax)= -1.0\n",
      "now searching betweeen  -1.5  and  0.0\n",
      "now searching betweeen  -1.5  and  -0.75\n",
      "now searching betweeen  -1.125  and  -0.75\n",
      "now searching betweeen  -1.125  and  -0.9375\n",
      "now searching betweeen  -1.03125  and  -0.9375\n",
      "now searching betweeen  -1.03125  and  -0.984375\n",
      "now searching betweeen  -1.0078125  and  -0.984375\n",
      "now searching betweeen  -1.0078125  and  -0.99609375\n",
      "now searching betweeen  -1.001953125  and  -0.99609375\n",
      "now searching betweeen  -1.001953125  and  -0.9990234375\n",
      "now searching betweeen  -1.00048828125  and  -0.9990234375\n",
      "now searching betweeen  -1.00048828125  and  -0.999755859375\n",
      "now searching betweeen  -1.0001220703125  and  -0.999755859375\n",
      "now searching betweeen  -1.0001220703125  and  -0.99993896484375\n",
      "now searching betweeen  -1.000030517578125  and  -0.99993896484375\n",
      "now searching betweeen  -1.000030517578125  and  -0.9999847412109375\n",
      "now searching betweeen  -1.0000076293945312  and  -0.9999847412109375\n",
      "now searching betweeen  -1.0000076293945312  and  -0.9999961853027344\n",
      "now searching betweeen  -1.0000019073486328  and  -0.9999961853027344\n",
      "now searching betweeen  -1.0000019073486328  and  -0.9999990463256836\n",
      "now searching betweeen  -1.0000004768371582  and  -0.9999990463256836\n",
      "now searching betweeen  -1.0000004768371582  and  -0.9999997615814209\n",
      "now searching betweeen  -1.0000001192092896  and  -0.9999997615814209\n",
      "now searching betweeen  -1.0000001192092896  and  -0.9999999403953552\n",
      "now searching betweeen  -1.0000000298023224  and  -0.9999999403953552\n",
      "now searching betweeen  -1.0000000298023224  and  -0.9999999850988388\n",
      "now searching betweeen  -1.0000000074505806  and  -0.9999999850988388\n",
      "now searching betweeen  -1.0000000074505806  and  -0.9999999962747097\n",
      "now searching betweeen  -1.0000000018626451  and  -0.9999999962747097\n",
      "now searching betweeen  -1.0000000018626451  and  -0.9999999990686774\n",
      "now searching betweeen  -1.0000000004656613  and  -0.9999999990686774\n",
      "now searching betweeen  -1.0000000004656613  and  -0.9999999997671694\n",
      "now searching betweeen  -1.0000000001164153  and  -0.9999999997671694\n",
      "now searching betweeen  -1.0000000001164153  and  -0.9999999999417923\n",
      "now searching betweeen  -1.0000000000291038  and  -0.9999999999417923\n",
      "now searching betweeen  -1.0000000000291038  and  -0.9999999999854481\n",
      "now searching betweeen  -1.000000000007276  and  -0.9999999999854481\n",
      "now searching betweeen  -1.000000000007276  and  -0.999999999996362\n",
      "now searching betweeen  -1.000000000001819  and  -0.999999999996362\n",
      "now searching betweeen  -1.000000000001819  and  -0.9999999999990905\n",
      "now searching betweeen  -1.0000000000004547  and  -0.9999999999990905\n",
      "found solution x0 at  -0.9999999999997726  f(x0)= -9.094947017729282e-13\n"
     ]
    }
   ],
   "source": [
    "xmin=-3.\n",
    "xmax=0.\n",
    "print('f(xmin)=',f(xmin))\n",
    "print('f(xmax)=',f(xmax))\n",
    "tolerance = 1.0e-12\n",
    "xguess = (xmin+xmax)/2.\n",
    "while abs(f(xguess))>tolerance:\n",
    "    if( (f(xguess) > 0 and f(xmax) >0)  or  (f(xguess)<0 and f(xmax)<0) ):\n",
    "        xmax=xguess\n",
    "    else:\n",
    "        xmin=xguess\n",
    "    print('now searching betweeen ',xmin,' and ',xmax)\n",
    "    xguess = (xmin+xmax)/2.\n",
    "print('found solution x0 at ',xguess,' f(x0)=',f(xguess))"
   ]
  },
  {
   "cell_type": "code",
   "execution_count": null,
   "metadata": {},
   "outputs": [],
   "source": []
  }
 ],
 "metadata": {
  "kernelspec": {
   "display_name": "Python 3",
   "language": "python",
   "name": "python3"
  },
  "language_info": {
   "codemirror_mode": {
    "name": "ipython",
    "version": 3
   },
   "file_extension": ".py",
   "mimetype": "text/x-python",
   "name": "python",
   "nbconvert_exporter": "python",
   "pygments_lexer": "ipython3",
   "version": "3.6.8"
  }
 },
 "nbformat": 4,
 "nbformat_minor": 2
}
