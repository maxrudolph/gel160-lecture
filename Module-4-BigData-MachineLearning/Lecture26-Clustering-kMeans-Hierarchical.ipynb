{
 "cells": [
  {
   "cell_type": "markdown",
   "metadata": {},
   "source": [
    "# Hierarchical clustering\n",
    "\n",
    "Hierarchical clustering can be viewed as an extension to the k-means clustering procedure that we used previously to cluster 2D data and then to cluster the colors in image pixels (you used this in the Warhol lab). In hierarchical clustering, we will split the data into two clusters and then further subdivide clusters. This leads to a hierarchy of clusters that can be represented by a tree-like structure called a dendrogram.\n",
    "\n",
    "https://docs.scipy.org/doc/scipy/reference/generated/scipy.cluster.hierarchy.linkage.html"
   ]
  },
  {
   "cell_type": "code",
   "execution_count": 1,
   "metadata": {},
   "outputs": [],
   "source": [
    "from matplotlib import pyplot as plt\n",
    "from scipy.cluster.hierarchy import dendrogram, linkage\n",
    "import numpy as np"
   ]
  },
  {
   "cell_type": "code",
   "execution_count": 2,
   "metadata": {},
   "outputs": [
    {
     "name": "stdout",
     "output_type": "stream",
     "text": [
      "(25,)\n"
     ]
    },
    {
     "data": {
      "image/png": "[encoded data removed]",
      "text/plain": [
       "<Figure size 432x288 with 1 Axes>"
      ]
     },
     "metadata": {
      "needs_background": "light"
     },
     "output_type": "display_data"
    }
   ],
   "source": [
    "# Conceptually demonstrate k-means clustering in 2D\n",
    "# Generate some random vectors stored in x and y:\n",
    "x = np.concatenate([2.0+1.0*np.random.rand(10),3.0+2.0*np.random.rand(15)])\n",
    "y = np.concatenate([4.0+2.5*np.random.rand(10),1.0+2.5*np.random.rand(15)])\n",
    "print(x.shape)\n",
    "plt.figure\n",
    "plt.plot(x,y,'.')\n",
    "plt.xlabel('x')\n",
    "plt.ylabel('y')\n",
    "plt.show()\n",
    "\n",
    "# This will combine x and y into a single matrix. Each column of the matrix will contain a single (x,y) pair.\n",
    "# The first row in the matrix will contain all of the x-values\n",
    "# The seecond row in the matrix will contain all of the y-values\n",
    "observations = np.vstack((x,y)).transpose()\n",
    "# NOTE: OpenCV will only allow observation vectors stored as float32. \n",
    "# You can convert from one datatype to another. Here we are converting observations to 'float32':\n",
    "observations = np.array(observations,dtype='float32')"
   ]
  },
  {
   "cell_type": "markdown",
   "metadata": {},
   "source": [
    "# Carry out the clustering\n",
    "\n",
    "The hierarchical clustering can be carried out with a single python command (!)\n",
    "\n",
    "The result Z is a (n-1) by 4 matrix. From the scipy documentation:\n",
    "\n",
    "A ($n-1$) by 4 matrix Z is returned. At the -th iteration, clusters with indices Z[i, 0] and Z[i, 1] are combined to form cluster $n+i$. A cluster with an index less than $n$ corresponds to one of the  original observations. The distance between clusters Z[i, 0] and Z[i, 1] is given by Z[i, 2]. The fourth value Z[i, 3] represents the number of original observations in the newly formed cluster."
   ]
  },
  {
   "cell_type": "code",
   "execution_count": 3,
   "metadata": {},
   "outputs": [
    {
     "name": "stdout",
     "output_type": "stream",
     "text": [
      "(25, 2)\n",
      "[[1.20000000e+01 2.40000000e+01 2.45759997e-02 2.00000000e+00]\n",
      " [1.10000000e+01 2.50000000e+01 3.52907143e-02 3.00000000e+00]\n",
      " [6.00000000e+00 9.00000000e+00 2.07096824e-01 2.00000000e+00]\n",
      " [1.80000000e+01 2.00000000e+01 2.42040315e-01 2.00000000e+00]\n",
      " [2.10000000e+01 2.30000000e+01 2.47937038e-01 2.00000000e+00]\n",
      " [2.00000000e+00 5.00000000e+00 2.63649814e-01 2.00000000e+00]\n",
      " [1.00000000e+00 8.00000000e+00 3.07705094e-01 2.00000000e+00]\n",
      " [7.00000000e+00 2.70000000e+01 3.26732038e-01 3.00000000e+00]\n",
      " [1.40000000e+01 1.90000000e+01 3.34001471e-01 2.00000000e+00]\n",
      " [4.00000000e+00 3.00000000e+01 4.13249925e-01 3.00000000e+00]\n",
      " [0.00000000e+00 3.00000000e+00 4.41511677e-01 2.00000000e+00]\n",
      " [1.00000000e+01 1.70000000e+01 4.41930176e-01 2.00000000e+00]\n",
      " [2.20000000e+01 2.80000000e+01 5.40717974e-01 3.00000000e+00]\n",
      " [1.30000000e+01 3.30000000e+01 7.10939278e-01 3.00000000e+00]\n",
      " [3.10000000e+01 3.20000000e+01 7.21956648e-01 5.00000000e+00]\n",
      " [2.90000000e+01 3.70000000e+01 7.67251527e-01 5.00000000e+00]\n",
      " [1.60000000e+01 3.60000000e+01 8.04981633e-01 3.00000000e+00]\n",
      " [1.50000000e+01 3.80000000e+01 1.19070415e+00 4.00000000e+00]\n",
      " [4.00000000e+01 4.10000000e+01 1.25113522e+00 8.00000000e+00]\n",
      " [3.50000000e+01 3.90000000e+01 1.37952505e+00 7.00000000e+00]\n",
      " [2.60000000e+01 4.20000000e+01 1.82259159e+00 7.00000000e+00]\n",
      " [3.40000000e+01 4.40000000e+01 2.57755448e+00 1.00000000e+01]\n",
      " [4.30000000e+01 4.50000000e+01 3.43283720e+00 1.50000000e+01]\n",
      " [4.60000000e+01 4.70000000e+01 1.04532555e+01 2.50000000e+01]]\n"
     ]
    }
   ],
   "source": [
    "X = np.stack([x,y]).transpose()\n",
    "print(X.shape)\n",
    "Z = linkage(X, 'ward')\n",
    "print(Z)"
   ]
  },
  {
   "cell_type": "code",
   "execution_count": 4,
   "metadata": {},
   "outputs": [
    {
     "data": {
      "image/png": "[encoded data removed]",
      "text/plain": [
       "<Figure size 432x288 with 1 Axes>"
      ]
     },
     "metadata": {
      "needs_background": "light"
     },
     "output_type": "display_data"
    }
   ],
   "source": [
    "# calculate full dendrogram\n",
    "plt.figure()\n",
    "plt.title('Hierarchical Clustering Dendrogram')\n",
    "plt.xlabel('Sample index')\n",
    "plt.ylabel('Distance')\n",
    "# Note - dendrogram is a \n",
    "dendrogram(\n",
    "    Z,\n",
    "    leaf_rotation=90.,  # rotates the x axis labels\n",
    "    leaf_font_size=8.,  # font size for the x axis labels\n",
    ")\n",
    "plt.show()"
   ]
  },
  {
   "cell_type": "code",
   "execution_count": null,
   "metadata": {},
   "outputs": [],
   "source": []
  }
 ],
 "metadata": {
  "kernelspec": {
   "display_name": "Python 3",
   "language": "python",
   "name": "python3"
  },
  "language_info": {
   "codemirror_mode": {
    "name": "ipython",
    "version": 3
   },
   "file_extension": ".py",
   "mimetype": "text/x-python",
   "name": "python",
   "nbconvert_exporter": "python",
   "pygments_lexer": "ipython3",
   "version": "3.6.8"
  }
 },
 "nbformat": 4,
 "nbformat_minor": 2
}
