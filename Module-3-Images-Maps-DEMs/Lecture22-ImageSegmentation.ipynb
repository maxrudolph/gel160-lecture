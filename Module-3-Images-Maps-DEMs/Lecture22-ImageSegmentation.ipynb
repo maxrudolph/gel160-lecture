{
 "cells": [
  {
   "cell_type": "code",
   "execution_count": null,
   "metadata": {},
   "outputs": [],
   "source": [
    "# Import all of the packages needed for the notebook\n",
    "import skimage.io as io\n",
    "import numpy as np\n",
    "import matplotlib.pyplot as plt"
   ]
  },
  {
   "cell_type": "markdown",
   "metadata": {},
   "source": [
    "# Thresholding in color images\n",
    "\n",
    "Idea: Define statistics of a population of pixels (mean, standard deviation (covariance matrix)).\n",
    "Measure distance normalized by covariance."
   ]
  },
  {
   "cell_type": "code",
   "execution_count": null,
   "metadata": {},
   "outputs": [],
   "source": [
    "marin=io.imread('naip_1-1_1n_s_ca041_2005_100109.jpg')\n",
    "%matplotlib notebook\n",
    "plt.figure()\n",
    "plt.imshow(marin)\n",
    "plt.show()"
   ]
  },
  {
   "cell_type": "code",
   "execution_count": null,
   "metadata": {},
   "outputs": [],
   "source": [
    "forest_roi = marin[950:1201,3050:3200,:] # region of interest, all channels\n",
    "%matplotlib notebook\n",
    "plt.figure()\n",
    "plt.imshow(forest_roi)\n",
    "plt.title('Forest ROI')\n",
    "plt.show()"
   ]
  },
  {
   "cell_type": "markdown",
   "metadata": {},
   "source": [
    "## Covariance matrix\n",
    "\n",
    "The covariance matrix contains information about the variance (standard deviation squared) of the pixels in the forested region as well as the covariance between colors.\n",
    "$$\n",
    "    \\underline{\\mu} = \\begin{bmatrix}\\mu_r \\\\ \\mu_g \\\\ \\mu_b \\end{bmatrix}\n",
    "$$\n",
    "\n",
    "$$\\underline{\\underline{\\sigma}} = \\begin{bmatrix}\\sigma_r & \\sigma_{rg} & \\sigma_{rb} \\\\\n",
    "\\sigma_{gr} & \\sigma_g & \\sigma_{gb}\\\\\n",
    "\\sigma_{br} & \\sigma_{bg} & \\sigma_b\n",
    "\\end{bmatrix}$$"
   ]
  },
  {
   "cell_type": "code",
   "execution_count": null,
   "metadata": {},
   "outputs": [],
   "source": [
    "# Calculate the covariance matrix for all of the pixels in the roi\n",
    "# The numpy covariance function expects a 3-by-npixel array\n",
    "pixels = forest_roi.reshape((-1,3)).transpose()\n",
    "print('pixels shape is ',pixels.shape)\n",
    "pix_mean = np.mean(pixels,axis=1)\n",
    "pix_cov_mat = np.cov(pixels)\n",
    "print('Mean R,G,B: ',pix_mean)\n",
    "print('cov mat: \\n',pix_cov_mat)"
   ]
  },
  {
   "cell_type": "code",
   "execution_count": null,
   "metadata": {},
   "outputs": [],
   "source": [
    "# For each pixel in the original image, calculate the Mahalanobis distance\n",
    "ci = np.linalg.inv(pix_cov_mat)\n",
    "# for clarity, this is how we would use 'for' loops to iterate over the columns and rows of the image\n",
    "# Note that this is incredibly slow. Do not do this!!\n",
    "#distance_matrix = np.zeros( marin.shape[:-1] )  # Create a blank matrix of zeres with the same number of cols/rows as 'marin'. :-1 removes 3rd dimension\n",
    "#for i in range(marin.shape[0]):\n",
    "#    for j in range(marin.shape[1]):\n",
    "#        d = (marin[i,j,:] - pix_mean).reshape((3,1)) # force numpy to think of distance as a column vector\n",
    "#        distance_matrix[i,j] = np.sqrt( d.transpose()@(ci@d) )\n",
    "\n",
    "# This does the same thing but using matrix algebra\n",
    "# 1. reshape the image to be 3-by-npixel\n",
    "marin_pixels = marin.reshape((-1,3)).transpose()\n",
    "# 2. Calculate marin_pixels - pixel mean\n",
    "pix_mean = pix_mean.reshape((3,1)) # make this a column vector\n",
    "d = marin_pixels-pix_mean\n",
    "print(d.shape)\n",
    "# calculate sqrt(dT*ci*d) for each pixel\n",
    "# What I do here is first calculate ci@d, which is a 3-by-npixel matrix containing the value of ci*d for each pixel.\n",
    "# Then I multiply by d, which has the effect of taking the element-wise product at each pixel between d and (ci*d).\n",
    "# (d*(ci@d)) will be a 3-by-npixel matrix\n",
    "# I then sum over columns to obtain the pixel-wise values of d^d*ci*d, which is a 1-by-npixel row vector.\n",
    "distance_matrix = np.sqrt(np.sum(d*(ci@d),axis=0))\n",
    "# reshape to image dimensions\n",
    "distance_matrix = distance_matrix.reshape(marin.shape[:-1])"
   ]
  },
  {
   "cell_type": "code",
   "execution_count": null,
   "metadata": {},
   "outputs": [],
   "source": [
    "%matplotlib inline\n",
    "fig, ax = plt.subplots(1,3,figsize=(12,4))\n",
    "ax[0].imshow(marin)\n",
    "h=ax[1].imshow(distance_matrix,cmap='jet')\n",
    "box = ax[1].get_position()\n",
    "ax[2].set_position([box.x0+box.width+.05, box.y0, .05, box.height])\n",
    "plt.colorbar(h,cax=ax[2])\n",
    "plt.show()\n",
    "plt.figure()\n",
    "plt.hist(distance_matrix.ravel(),50)\n",
    "plt.grid()\n",
    "plt.show()"
   ]
  },
  {
   "cell_type": "code",
   "execution_count": null,
   "metadata": {},
   "outputs": [],
   "source": [
    "# Define threshold value in terms of mahalanobis distance. Shade segmented regions:\n",
    "thresh=7.\n",
    "forest_mask = distance_matrix <= thresh\n",
    "marin_tmp = marin.copy()\n",
    "marin_tmp[forest_mask] = np.array([200,0,0]) # This will tint the forest redder\n",
    "marin_tmp = np.uint8(marin_tmp)\n",
    "\n",
    "%matplotlib notebook\n",
    "fig, ax = plt.subplots(1,2)\n",
    "ax[0].imshow(marin)\n",
    "ax[1].imshow(marin_tmp)\n",
    "fig.show()"
   ]
  },
  {
   "cell_type": "code",
   "execution_count": null,
   "metadata": {},
   "outputs": [],
   "source": [
    "# Note that you can also make an interactive plot in jupyter:\n",
    "from ipywidgets import interact\n",
    "thresh=7.\n",
    "forest_mask = distance_matrix <= thresh\n",
    "marin_tmp = marin.copy()\n",
    "marin_tmp[forest_mask] = np.array([200,0,0]) # This will tint the forest redder\n",
    "marin_tmp = np.uint8(marin_tmp)\n",
    "\n",
    "%matplotlib notebook\n",
    "fig, ax = plt.subplots(1,2)\n",
    "ax[0].imshow(marin)\n",
    "ax[1].imshow(marin_tmp)\n",
    "\n",
    "def update(thresh = 7.5):\n",
    "    marin_tmp = marin.copy()\n",
    "    forest_mask = distance_matrix <= thresh\n",
    "    marin_tmp[forest_mask] = np.array([200,0,0]) # This will tint the forest redder\n",
    "    marin_tmp = np.uint8(marin_tmp)\n",
    "    ax[1].clear()\n",
    "    ax[1].imshow(marin_tmp)\n",
    "    ax[1].set_xlim(ax[0].get_xlim())\n",
    "    ax[1].set_ylim(ax[0].get_ylim())\n",
    "    fig.canvas.draw_idle()\n",
    "\n",
    "interact(update)"
   ]
  },
  {
   "cell_type": "markdown",
   "metadata": {},
   "source": [
    "# Edge detection\n",
    "\n",
    "**Motivation**: Up until now, we've worked with images where different regions had different colors and distinct interpretations associated with each color. The human mind can quickly recognize and 'segment' the image below of a bunch of pebbles into distinct pebbles. "
   ]
  },
  {
   "cell_type": "code",
   "execution_count": null,
   "metadata": {},
   "outputs": [],
   "source": [
    "# Pebbles\n",
    "from skimage import filters\n",
    "from skimage import color\n",
    "\n",
    "pebbles = io.imread('pebbles1.png')\n",
    "# Convert to greyscale\n",
    "pebbles_bw = color.rgb2gray(pebbles)\n",
    "kernel = np.ones((7,7))\n",
    "pebbles_medfilt = filters.median(pebbles_bw,selem=kernel)\n",
    "%matplotlib inline\n",
    "fig,ax = plt.subplots(1,3,sharex=True,sharey=True,figsize=(12,3))\n",
    "ax[0].imshow(pebbles)\n",
    "ax[1].imshow(pebbles_bw,cmap='gray')\n",
    "ax[2].imshow(pebbles_medfilt,cmap='gray')\n",
    "plt.show()"
   ]
  },
  {
   "cell_type": "code",
   "execution_count": null,
   "metadata": {},
   "outputs": [],
   "source": [
    "from skimage import feature\n",
    "%matplotlib notebook\n",
    "pebbles_canny = feature.canny(pebbles_medfilt,sigma=0.0)\n",
    "\n",
    "fig,ax = plt.subplots(1,2,sharex=True,sharey=True)\n",
    "ax[0].imshow(pebbles)\n",
    "ax[1].imshow(pebbles_canny,cmap='gray')\n",
    "plt.show()"
   ]
  },
  {
   "cell_type": "code",
   "execution_count": null,
   "metadata": {},
   "outputs": [],
   "source": [
    "import cv2 as cv\n",
    "import numpy as np\n",
    "filter_size=5\n",
    "kernel = np.ones((filter_size,filter_size),np.uint8)  # note this is a 5x5 ‘square’ kernel\n",
    "pebbles_dilated = cv.dilate(1.0*pebbles_canny,kernel,iterations = 1)\n",
    "\n",
    "fig,ax = plt.subplots(1,2,sharex=True,sharey=True)\n",
    "ax[0].imshow(pebbles_canny,cmap='gray')\n",
    "ax[1].imshow(pebbles_dilated,cmap='gray')\n",
    "plt.show()"
   ]
  },
  {
   "cell_type": "code",
   "execution_count": null,
   "metadata": {},
   "outputs": [],
   "source": [
    "# Skeletonize the image\n",
    "from skimage import morphology\n",
    "\n",
    "pebbles_skel = morphology.skeletonize(pebbles_dilated)\n",
    "fig,ax = plt.subplots(1,2,sharex=True,sharey=True)\n",
    "ax[0].imshow(pebbles_dilated,cmap='gray')\n",
    "ax[0].set_title('Dilated')\n",
    "ax[1].imshow(pebbles_skel,cmap='gray')\n",
    "ax[1].set_title('Skeletonized')\n",
    "plt.show()\n"
   ]
  },
  {
   "cell_type": "code",
   "execution_count": null,
   "metadata": {},
   "outputs": [],
   "source": [
    "# Invert image\n",
    "from skimage import measure\n",
    "from skimage.color import label2rgb\n",
    "\n",
    "pebbles_inv = 1.0-pebbles_skel\n",
    "# identify  and label connected components\n",
    "labels = measure.label(pebbles_inv,connectivity=1)\n",
    "image_label_overlay = label2rgb(labels, image=pebbles)\n",
    "\n",
    "fig,ax = plt.subplots(1,2,sharex=True,sharey=True)\n",
    "ax[0].imshow(pebbles_inv,cmap='gray')\n",
    "ax[0].set_title('Inverted')\n",
    "ax[1].imshow(image_label_overlay)\n",
    "ax[1].set_title('Labels')\n",
    "plt.show()"
   ]
  },
  {
   "cell_type": "code",
   "execution_count": null,
   "metadata": {},
   "outputs": [],
   "source": []
  }
 ],
 "metadata": {
  "kernelspec": {
   "display_name": "Python 3",
   "language": "python",
   "name": "python3"
  },
  "language_info": {
   "codemirror_mode": {
    "name": "ipython",
    "version": 3
   },
   "file_extension": ".py",
   "mimetype": "text/x-python",
   "name": "python",
   "nbconvert_exporter": "python",
   "pygments_lexer": "ipython3",
   "version": "3.6.8"
  }
 },
 "nbformat": 4,
 "nbformat_minor": 2
}
