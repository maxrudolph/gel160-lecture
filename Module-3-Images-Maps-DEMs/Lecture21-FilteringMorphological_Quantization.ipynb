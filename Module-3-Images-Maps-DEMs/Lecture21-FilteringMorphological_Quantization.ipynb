{
 "cells": [
  {
   "cell_type": "markdown",
   "metadata": {},
   "source": [
    "# This notebook accompanies the lecture slides for GEL160 Lecture 21"
   ]
  },
  {
   "cell_type": "code",
   "execution_count": null,
   "metadata": {},
   "outputs": [],
   "source": [
    "import numpy as np\n",
    "from skimage import io\n",
    "import matplotlib.pyplot as plt\n",
    "import cv2 as cv"
   ]
  },
  {
   "cell_type": "markdown",
   "metadata": {},
   "source": [
    "# Part 1: smoothing and filtering\n",
    "\n",
    "This section demonstrates how we can threshold and then filter the Briones image from last week's lab."
   ]
  },
  {
   "cell_type": "code",
   "execution_count": null,
   "metadata": {},
   "outputs": [],
   "source": [
    "# Load the briones image\n",
    "briones = io.imread('../lab7/briones.tiff')\n",
    "# Throw away the alpha channel\n",
    "briones = briones[:,:,:-1]\n",
    "# Convert to greyscale\n",
    "from skimage import color\n",
    "briones_bw = color.rgb2gray(briones)\n",
    "# show rgb and grayscale side by side\n",
    "fig, ax = plt.subplots(1,2,figsize=(12,4))\n",
    "ax[0].imshow(briones)\n",
    "ax[0].set_xticks([]) # Note - this is one way  to remove the ticks and tick labels for a cleaner appearance\n",
    "ax[0].set_yticks([])\n",
    "ax[1].imshow(briones_bw,cmap='gray')\n",
    "ax[1].set_xticks([])\n",
    "ax[1].set_yticks([])\n",
    "plt.tight_layout()\n",
    "plt.show()\n",
    "# show the histogram of the greyscale image\n",
    "plt.figure()\n",
    "plt.hist(briones_bw.ravel(),256)\n",
    "plt.show()\n",
    "# specify threshold value\n",
    "threshold = 4.0/255\n",
    "briones_mask = briones_bw <= threshold\n",
    "plt.figure()\n",
    "plt.imshow(briones_mask,cmap='gray')\n",
    "plt.show()"
   ]
  },
  {
   "cell_type": "markdown",
   "metadata": {},
   "source": [
    "## Median filter\n",
    "The median filter can be applied to grayscale images as well as binary images. This filter looks at each pixel in the image and assigns to each pixel the median value from all of the neighboring pixels\n",
    "\n",
    "**This filter is good for removing outlier pixel values as the median tends to discard extreme values. It has a tendency to retain sharp contrasts that existed in the original image.**\n",
    "\n",
    "In the code below, I define the 'neighborhood size' as 11. We create a structuring element that is a 11x11 matrix containing ones. This has the effect of taking the median over all of the pixels within an 11x11 box centered on each pixel. Try increasing and decreasing the size of the neighborhood to develop a feel for how this affects the filtered image."
   ]
  },
  {
   "cell_type": "code",
   "execution_count": null,
   "metadata": {},
   "outputs": [],
   "source": [
    "from skimage import filters\n",
    "neighborhood_size = 11\n",
    "structuring_element = np.ones((neighborhood_size,neighborhood_size))\n",
    "\n",
    "briones_medfilt = filters.median(briones_bw,structuring_element)\n",
    "fig,ax = plt.subplots(1,2,figsize=(12,6))\n",
    "ax[0].imshow(briones_bw,cmap='gray')\n",
    "ax[1].imshow(briones_medfilt,cmap='gray')\n",
    "plt.show()"
   ]
  },
  {
   "cell_type": "code",
   "execution_count": null,
   "metadata": {},
   "outputs": [],
   "source": [
    "# Experiment with thresholding after median filter:\n",
    "threshold = 2.0/255\n",
    "briones_medfilt_mask = briones_medfilt <= threshold\n",
    "\n",
    "fig,ax = plt.subplots(1,2,figsize=(12,6))\n",
    "ax[0].imshow(briones_mask,cmap='gray')\n",
    "ax[1].imshow(briones_medfilt_mask,cmap='gray')\n",
    "plt.show()"
   ]
  },
  {
   "cell_type": "markdown",
   "metadata": {},
   "source": [
    "## Gaussian filter\n",
    "\n",
    "The Gaussian filter applies an averaging scheme to the color associated with each pixel. Each pixel is assigned a weighted average of all of the other pixels in the image, where the weight is calculated based on a Gaussian function with a specifed shape parameter in numbers of pixels.\n",
    "\n",
    "**The Gaussian filter can be applied to both color and greyscale images**\n",
    "**This filter is useful for blurring an image. It will blur boundaries and produce a less-sharp image than the starting image**"
   ]
  },
  {
   "cell_type": "code",
   "execution_count": null,
   "metadata": {},
   "outputs": [],
   "source": [
    "briones_gauss = filters.gaussian(briones,sigma=2)\n",
    "fig,ax = plt.subplots(1,2,figsize=(12,6))\n",
    "ax[0].imshow(briones)\n",
    "ax[1].imshow(briones_gauss)\n",
    "plt.show()"
   ]
  },
  {
   "cell_type": "markdown",
   "metadata": {},
   "source": [
    "# Part 2: Morphological operations\n",
    "\n",
    "In this part we will look at the morphological operations 'erosion', 'dilation', 'opening' and 'closing'.\n",
    "I will continue to use the *thresholded* briones example here"
   ]
  },
  {
   "cell_type": "code",
   "execution_count": null,
   "metadata": {},
   "outputs": [],
   "source": [
    "kernel = np.ones((5,5),np.uint8)  # note this is a 5x5 ‘square’ kernel\n",
    "# Note: multiply by 1.0 to convert from True/False to float\n",
    "briones_eroded = cv.erode(briones_mask*1.0,kernel,iterations = 1) \n",
    "\n",
    "fig,ax = plt.subplots(1,2,figsize=(12,6))\n",
    "ax[0].imshow(briones_mask,cmap='gray')\n",
    "ax[1].imshow(briones_eroded,cmap='gray')\n",
    "plt.show()"
   ]
  },
  {
   "cell_type": "markdown",
   "metadata": {},
   "source": [
    "## Dilation"
   ]
  },
  {
   "cell_type": "code",
   "execution_count": null,
   "metadata": {},
   "outputs": [],
   "source": [
    "kernel = np.ones((5,5),np.uint8)  # note this is a 5x5 ‘square’ kernel\n",
    "# Note: multiply by 1.0 to convert from True/False to float\n",
    "briones_dilated = cv.dilate(briones_mask*1.0,kernel,iterations = 1) \n",
    "\n",
    "fig,ax = plt.subplots(1,2,figsize=(12,6))\n",
    "ax[0].imshow(briones_mask,cmap='gray')\n",
    "ax[1].imshow(briones_dilated,cmap='gray')\n",
    "plt.show()"
   ]
  },
  {
   "cell_type": "markdown",
   "metadata": {},
   "source": [
    "# Opening"
   ]
  },
  {
   "cell_type": "code",
   "execution_count": null,
   "metadata": {},
   "outputs": [],
   "source": [
    "kernel = np.ones((5,5),np.uint8)  # note this is a 5x5 ‘square’ kernel\n",
    "\n",
    "briones_open = cv.morphologyEx(briones_mask*1.0, cv.MORPH_OPEN, kernel)\n",
    "fig,ax = plt.subplots(1,2,figsize=(12,6))\n",
    "ax[0].imshow(briones_mask,cmap='gray')\n",
    "ax[1].imshow(briones_open,cmap='gray')\n",
    "plt.show()"
   ]
  },
  {
   "cell_type": "markdown",
   "metadata": {},
   "source": [
    "## Morphological Closing"
   ]
  },
  {
   "cell_type": "code",
   "execution_count": null,
   "metadata": {},
   "outputs": [],
   "source": [
    "kernel = np.ones((5,5),np.uint8)  # note this is a 5x5 ‘square’ kernel\n",
    "\n",
    "briones_close = cv.morphologyEx(briones_mask*1.0, cv.MORPH_CLOSE, kernel)\n",
    "fig,ax = plt.subplots(1,2,figsize=(12,6))\n",
    "ax[0].imshow(briones_mask,cmap='gray')\n",
    "ax[1].imshow(briones_close,cmap='gray')\n",
    "plt.show()"
   ]
  },
  {
   "cell_type": "markdown",
   "metadata": {},
   "source": [
    "## Morphological operations: Choosing the  structuring element"
   ]
  },
  {
   "cell_type": "code",
   "execution_count": null,
   "metadata": {},
   "outputs": [],
   "source": [
    "# specify the size of the element in pixels\n",
    "s = 5;\n",
    "rect = cv.getStructuringElement(cv.MORPH_RECT,(s,s))\n",
    "circ = cv.getStructuringElement(cv.MORPH_ELLIPSE,(s,s))\n",
    "cross = cv.getStructuringElement(cv.MORPH_CROSS,(s,s))\n",
    "\n",
    "fig, ax = plt.subplots(3,1,figsize=(10,3))\n",
    "ax[0].imshow(rect,cmap='gray',vmin=0.0,vmax=1.0)\n",
    "ax[1].imshow(circ,cmap='gray',vmin=0.0,vmax=1.0)\n",
    "ax[2].imshow(cross,cmap='gray',vmin=0.0,vmax=1.0)\n",
    "for i in ax:\n",
    "    i.set_xticks([])\n",
    "    i.set_yticks([])\n",
    "plt.show()\n",
    "\n",
    "# demonstrate Opening with each kernel:\n",
    "briones_rect = cv.morphologyEx(briones_mask*1.0, cv.MORPH_DILATE, rect)\n",
    "briones_circ = cv.morphologyEx(briones_mask*1.0, cv.MORPH_DILATE, circ)\n",
    "briones_cross = cv.morphologyEx(briones_mask*1.0, cv.MORPH_DILATE, cross)\n",
    "fig,ax = plt.subplots(3,1,figsize=(6,12))\n",
    "ax[0].imshow(briones_rect,cmap='gray')\n",
    "ax[1].imshow(briones_circ,cmap='gray')\n",
    "ax[2].imshow(briones_cross,cmap='gray')\n",
    "for i in ax:\n",
    "    i.set_xticks([])\n",
    "    i.set_yticks([])\n",
    "plt.show()"
   ]
  },
  {
   "cell_type": "markdown",
   "metadata": {},
   "source": [
    "# Part 3: Analyzing connected components\n",
    "\n",
    "Let's load an image, threshold it to produce a binary mask, and then analyze the properties of the 'connected' components of the image."
   ]
  },
  {
   "cell_type": "code",
   "execution_count": null,
   "metadata": {},
   "outputs": [],
   "source": [
    "ice = io.imread('https://svs.gsfc.nasa.gov/vis/a010000/a011500/a011539/fc-1280.jpg')\n",
    "ice_bw = color.rgb2gray(ice)\n",
    "fig,ax = plt.subplots(1,3,figsize=(12,4))\n",
    "ax[0].imshow(ice)\n",
    "ax[0].set_xticks([])\n",
    "ax[0].set_yticks([])\n",
    "ax[0].set_title('Ice - original')\n",
    "ax[1].imshow(ice_bw,cmap='gray')\n",
    "ax[1].set_xticks([])\n",
    "ax[1].set_yticks([])\n",
    "ax[1].set_title('Ice - grayscale')\n",
    "ax[2].hist(ice_bw.flatten(),255)\n",
    "ax[2].set_title('Histogram')\n",
    "plt.tight_layout()\n",
    "plt.show()"
   ]
  },
  {
   "cell_type": "code",
   "execution_count": null,
   "metadata": {},
   "outputs": [],
   "source": [
    "# define threshold value for ice\n",
    "%matplotlib notebook\n",
    "tval = 0.6\n",
    "ice_mask = 1.0*(ice_bw > tval)\n",
    "fig,ax = plt.subplots(1,2)\n",
    "ax[0].imshow(ice_bw,cmap='gray')\n",
    "ax[1].imshow(ice_mask,cmap='gray')\n",
    "plt.show()"
   ]
  },
  {
   "cell_type": "code",
   "execution_count": null,
   "metadata": {},
   "outputs": [],
   "source": [
    "# Use morphological erosion to remove the very small, isolated blocks and focus on the big icebergs\n",
    "%matplotlib inline\n",
    "s=3\n",
    "circ = cv.getStructuringElement(cv.MORPH_ELLIPSE,(s,s))\n",
    "ice_open = cv.morphologyEx(ice_mask*1.0, cv.MORPH_OPEN, kernel)\n",
    "\n",
    "fig,ax = plt.subplots(1,2,figsize=(12,4))\n",
    "ax[0].imshow(ice_mask,cmap='gray')\n",
    "ax[0].set_title('Thresholded image')\n",
    "ax[1].imshow(ice_open,cmap='gray')\n",
    "ax[1].set_title('After morphological opening')\n",
    "for i in ax:\n",
    "    i.set_xticks([])\n",
    "    i.set_yticks([])\n",
    "plt.show()"
   ]
  },
  {
   "cell_type": "code",
   "execution_count": null,
   "metadata": {},
   "outputs": [],
   "source": [
    "# Label the connected regions\n",
    "from skimage import measure\n",
    "labels = measure.label(ice_open) # This does the labeling!\n",
    "\n",
    "fig,ax = plt.subplots(1,2,figsize=(12,4))\n",
    "ax[0].imshow(ice_mask,cmap='gray')\n",
    "ax[0].set_title('After morphological opening')\n",
    "ax[1].imshow(labels,cmap='jet')\n",
    "ax[1].set_title('Connected components')\n",
    "\n",
    "for i in ax:\n",
    "    i.set_xticks([])\n",
    "    i.set_yticks([])\n",
    "plt.show()"
   ]
  },
  {
   "cell_type": "markdown",
   "metadata": {},
   "source": [
    "# Retrieve properties of regions\n",
    "The properties of the connected components that we can readily measure are described here:\n",
    "\n",
    "https://scikit-image.org/docs/dev/api/skimage.measure.html#skimage.measure.regionprops"
   ]
  },
  {
   "cell_type": "code",
   "execution_count": null,
   "metadata": {},
   "outputs": [],
   "source": [
    "from skimage.measure import regionprops\n",
    "properties = regionprops(labels,intensity_image=labels)\n",
    "# Let's look at the area of each component\n",
    "areas = []\n",
    "for region in properties:\n",
    "    areas.append(region.area)\n",
    "areas = np.array(areas)\n",
    "print(areas)\n",
    "\n",
    "# Sort based on area\n",
    "sort_order = np.argsort(areas)\n",
    "print(\"Sorted order of regions:\",sort_order)\n",
    "i = sort_order[-1] # -1 will give us the largest region, -2 the second-largest etc...\n",
    "# Get additional property (centroid location)\n",
    "centroid = properties[i].weighted_centroid\n",
    "fig, ax = plt.subplots(1,2,figsize=(12,4))\n",
    "ax[0].imshow(labels)\n",
    "ax[0].plot(centroid[1],centroid[0],'rx') # NOTE centroid is defined by (row,col) so we need to plot it as (x,y)=(col,row)\n",
    "ax[0].set_title('Region {:d} area {:d} pixels'.format(i,areas[i]))\n",
    "ax[1].imshow(properties[i].filled_image,cmap='gray')\n",
    "ax[1].set_title('close-up of region')\n",
    "plt.show()"
   ]
  },
  {
   "cell_type": "code",
   "execution_count": null,
   "metadata": {},
   "outputs": [],
   "source": [
    "# Make a histogram of thee iceberg sizes. Let's remove the largest value first, which corresponds to the glacier\n",
    "sorted_areas = np.sort(areas)\n",
    "sorted_areas = sorted_areas[:-1]\n",
    "plt.figure()\n",
    "plt.hist(sorted_areas,20)\n",
    "plt.xlabel('Area (pixels)')\n",
    "plt.ylabel('Number')\n",
    "plt.show()"
   ]
  },
  {
   "cell_type": "markdown",
   "metadata": {},
   "source": [
    "# Part 4: Image Quantization using k-means clustering"
   ]
  },
  {
   "cell_type": "code",
   "execution_count": null,
   "metadata": {},
   "outputs": [],
   "source": [
    "# Conceptually demonstrate k-means clustering in 2D\n",
    "# Generate some random vectors stored in x and y:\n",
    "x = np.concatenate([2.0+1.0*np.random.rand(10),3.0+2.0*np.random.rand(15)])\n",
    "y = np.concatenate([4.0+2.5*np.random.rand(10),1.0+2.5*np.random.rand(15)])\n",
    "\n",
    "plt.figure\n",
    "plt.plot(x,y,'.')\n",
    "plt.xlabel('x')\n",
    "plt.ylabel('y')\n",
    "plt.show()"
   ]
  },
  {
   "cell_type": "code",
   "execution_count": null,
   "metadata": {},
   "outputs": [],
   "source": [
    "# Apply k-means clustering to the 2D data here generated above. This example is based closely on the OpenCV documentation:\n",
    "# https://docs.opencv.org/3.0-beta/doc/py_tutorials/py_ml/py_kmeans/py_kmeans_opencv/py_kmeans_opencv.html (section 2)\n",
    "import cv2\n",
    "# This will combine x and y into a single matrix. Each column of the matrix will contain a single (x,y) pair.\n",
    "# The first row in the matrix will contain all of the x-values\n",
    "# The seecond row in the matrix will contain all of the y-values\n",
    "observations = np.vstack((x,y)).transpose()\n",
    "# NOTE: OpenCV will only allow observation vectors stored as float32. \n",
    "# You can convert from one datatype to another. Here we are converting observations to 'float32':\n",
    "observations = np.array(observations,dtype='float32')\n",
    "\n",
    "# Set the 'criteria' for the k-means search:\n",
    "# The criteria are a list of three quantities (termination criteria, maximum iterations, tolerance)\n",
    "# The algorithm is iterative and it is a good idea to experiment with increasing the maximum iterations and decreasing the tolerance\n",
    "# Make sure that the results are not changing substantially as you increase these quantities\n",
    "# There is no guarantee that you will recover the optimal solution, but the algorithm generally performs very well.\n",
    "criteria = (cv2.TERM_CRITERIA_EPS + cv2.TERM_CRITERIA_MAX_ITER, 100, 1.0)\n",
    "# specify the number of means:\n",
    "k=2\n",
    "ret,label,center=cv2.kmeans(observations,k,None,criteria,1000,cv2.KMEANS_RANDOM_CENTERS)\n",
    "print('Distance=',ret)\n",
    "print('labels=',label)\n",
    "print('center=',center)"
   ]
  },
  {
   "cell_type": "code",
   "execution_count": null,
   "metadata": {},
   "outputs": [],
   "source": [
    "# Visualize the results of the k-means procedure:\n",
    "plt.figure()\n",
    "for i in range(k):\n",
    "    mask = label==i\n",
    "    mask = mask.flatten()\n",
    "    h=plt.plot(observations[mask,0],observations[mask,1],'.',label='data in cluster {:d}'.format(i))\n",
    "    # Plot the center of this cluster using a square\n",
    "    plt.plot(center[i,0],center[i,1],'s',c=h[0].get_color(),label='Center {:d}'.format(i))\n",
    "plt.legend()\n",
    "plt.show()"
   ]
  },
  {
   "cell_type": "code",
   "execution_count": null,
   "metadata": {},
   "outputs": [],
   "source": [
    "# Application to an image - in this case a satellite photo of mono lake:\n",
    "rgb_values = briones.reshape(-1,3)\n",
    "rgb_values = np.float32(rgb_values)\n",
    "# specify number of clusters\n",
    "k=4\n",
    "criteria = (cv2.TERM_CRITERIA_EPS + cv2.TERM_CRITERIA_MAX_ITER, 100000, 1.0)\n",
    "ret,label,center=cv2.kmeans(rgb_values,k,None,criteria,10,cv2.KMEANS_RANDOM_CENTERS)\n",
    "print('Distance=',ret)\n",
    "print('center=',center)\n",
    "# Now convert back into uint8, and make original image\n",
    "center = np.uint8(center)        # Convert center values back to 8 bits per channel\n",
    "restored_pixels = center[label.flatten()]    \n",
    "briones_kmeans = restored_pixels.reshape((briones.shape))\n",
    "# show the results:\n",
    "fig,ax = plt.subplots(1,3,figsize=(12,6))\n",
    "ax[0].imshow(briones)\n",
    "ax[0].set_title('Original image')\n",
    "ax[1].imshow(briones_kmeans)\n",
    "ax[1].set_title('Quantized image')\n",
    "h=ax[2].imshow(label.reshape(briones.shape[0:2]),cmap='jet')\n",
    "\n",
    "from mpl_toolkits.axes_grid1 import make_axes_locatable\n",
    "divider = make_axes_locatable(ax[2])\n",
    "cax = divider.append_axes(\"right\", size=\"5%\", pad=0.05)\n",
    "fig.colorbar(h, cax=cax)\n",
    "ax[2].set_title('Cluster number (k={:d})'.format(k))\n",
    "for i in ax:\n",
    "    i.set_xticks([])\n",
    "    i.set_yticks([])\n",
    "plt.show()"
   ]
  },
  {
   "cell_type": "code",
   "execution_count": null,
   "metadata": {},
   "outputs": [],
   "source": [
    "label.reshape(briones.shape[0:2])\n",
    "label.reshape(briones.shape[0:2])"
   ]
  },
  {
   "cell_type": "code",
   "execution_count": null,
   "metadata": {},
   "outputs": [],
   "source": []
  }
 ],
 "metadata": {
  "kernelspec": {
   "display_name": "Python 3",
   "language": "python",
   "name": "python3"
  },
  "language_info": {
   "codemirror_mode": {
    "name": "ipython",
    "version": 3
   },
   "file_extension": ".py",
   "mimetype": "text/x-python",
   "name": "python",
   "nbconvert_exporter": "python",
   "pygments_lexer": "ipython3",
   "version": "3.6.8"
  }
 },
 "nbformat": 4,
 "nbformat_minor": 2
}
