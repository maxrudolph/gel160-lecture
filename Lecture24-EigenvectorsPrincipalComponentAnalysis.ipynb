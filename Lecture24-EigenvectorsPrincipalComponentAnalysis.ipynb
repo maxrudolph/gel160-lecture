{
 "cells": [
  {
   "cell_type": "code",
   "execution_count": 1,
   "metadata": {},
   "outputs": [],
   "source": [
    "import numpy as np\n",
    "import scipy.stats as stats\n",
    "import matplotlib.pyplot as plt"
   ]
  },
  {
   "cell_type": "markdown",
   "metadata": {},
   "source": [
    "# Eigenvectors and Eigenvalues of a matrix\n"
   ]
  },
  {
   "cell_type": "code",
   "execution_count": 2,
   "metadata": {},
   "outputs": [
    {
     "name": "stdout",
     "output_type": "stream",
     "text": [
      "M = \n",
      " [[5. 1.]\n",
      " [1. 3.]]\n"
     ]
    },
    {
     "data": {
      "image/png": "[encoded data removed]",
      "text/plain": [
       "<Figure size 432x288 with 1 Axes>"
      ]
     },
     "metadata": {
      "needs_background": "light"
     },
     "output_type": "display_data"
    }
   ],
   "source": [
    "M = np.array([[5.0,1.0],[1.0,3.0]])\n",
    "print(\"M = \\n\",M)\n",
    "\n",
    "vx = np.array([[1.0],[0.0]]) # unit vector parallel to x\n",
    "vy = np.array([[0.0],[1.0]]) # unit vector parallel to y\n",
    "mvx = M.dot(vx) # A*v1\n",
    "mvy = M.dot(vy) # A*v1\n",
    "vxvy = vx+vy\n",
    "mvxvy = M.dot(vxvy)\n",
    "\n",
    "fig,ax = plt.subplots(1,1)\n",
    "ax.quiver(0,0,vx[0],vx[1],scale=1.0,scale_units='x')\n",
    "ax.quiver(0,0,mvx[0],mvx[1],scale=1.0,scale_units='x')\n",
    "\n",
    "ax.quiver(0,0,vy[0],vy[1],color='r',scale=1.0,scale_units='x')\n",
    "ax.quiver(0,0,mvy[0],mvy[1],color='r',scale=1.0,scale_units='x')\n",
    "\n",
    "ax.quiver(0,0,vxvy[0],vxvy[1],color='b',scale=1.0,scale_units='x')\n",
    "ax.quiver(0,0,mvxvy[0],mvxvy[1],color='b',scale=1.0,scale_units='x')\n",
    "\n",
    "ax.set_xlim([-1,7])\n",
    "ax.set_ylim([-1,7])\n",
    "ax.set_aspect('equal','box')\n",
    "plt.show()"
   ]
  },
  {
   "cell_type": "code",
   "execution_count": 3,
   "metadata": {},
   "outputs": [
    {
     "name": "stdout",
     "output_type": "stream",
     "text": [
      "eigenvalues  [5.41421356 2.58578644]\n",
      "eigenvectors (in columns):\n",
      " [[ 0.92387953 -0.38268343]\n",
      " [ 0.38268343  0.92387953]]\n"
     ]
    }
   ],
   "source": [
    "# Calculate the eigenvectors and eigenvalues using NumPy\n",
    "v,d = np.linalg.eig(M)\n",
    "print(\"eigenvalues \",v)\n",
    "print(\"eigenvectors (in columns):\\n\",d)"
   ]
  },
  {
   "cell_type": "code",
   "execution_count": 4,
   "metadata": {},
   "outputs": [
    {
     "data": {
      "image/png": "[encoded data removed]",
      "text/plain": [
       "<Figure size 432x288 with 1 Axes>"
      ]
     },
     "metadata": {
      "needs_background": "light"
     },
     "output_type": "display_data"
    }
   ],
   "source": [
    "# plot the eigenvectors and their distortion under M\n",
    "v0 = d[:,0] #0th eigenvector\n",
    "v1 = d[:,1] #1st eigenvector\n",
    "\n",
    "mv0 = M.dot(v0)\n",
    "mv1 = M.dot(v1)\n",
    "\n",
    "fig,ax = plt.subplots(1,1)\n",
    "ax.quiver(0,0,vx[0],vx[1],scale=1.0,scale_units='x')\n",
    "ax.quiver(0,0,mvx[0],mvx[1],scale=1.0,scale_units='x')\n",
    "\n",
    "ax.quiver(0,0,vy[0],vy[1],color='r',scale=1.0,scale_units='x')\n",
    "ax.quiver(0,0,mvy[0],mvy[1],color='r',scale=1.0,scale_units='x')\n",
    "\n",
    "ax.quiver(0,0,v0[0],v0[1],color='b',scale=1.0,scale_units='x')\n",
    "ax.quiver(0,0,mv0[0],mv0[1],color='b',scale=1.0,scale_units='x')\n",
    "\n",
    "ax.quiver(0,0,v1[0],v1[1],color='g',scale=1.0,scale_units='x')\n",
    "ax.quiver(0,0,mv1[0],mv1[1],color='g',scale=1.0,scale_units='x')\n",
    "ax.set_title('Eigenvectors are shown in blue and green')\n",
    "\n",
    "ax.set_xlim([-2,6])\n",
    "ax.set_ylim([-2,6])\n",
    "ax.set_aspect('equal','box')\n",
    "plt.show()"
   ]
  },
  {
   "cell_type": "markdown",
   "metadata": {},
   "source": [
    "## Generate synthetic 2D data and calculate covariance matrix\n",
    "The code below generates a sample of `N` measurements of quantities x and y. The parameters are sampled from a  multivariate normal distribution. The means of the parameters are specified, as are the shape parameters $\\sigma_x^2$, $\\sigma_y^2$ and the covariance $\\sigma_{xy}$."
   ]
  },
  {
   "cell_type": "code",
   "execution_count": 5,
   "metadata": {},
   "outputs": [
    {
     "data": {
      "image/png": "[encoded data removed]",
      "text/plain": [
       "<Figure size 432x288 with 1 Axes>"
      ]
     },
     "metadata": {
      "needs_background": "light"
     },
     "output_type": "display_data"
    }
   ],
   "source": [
    "import numpy as np\n",
    "N = 100          # number of samples\n",
    "xmean = 1.0\n",
    "ymean = 10.0\n",
    "s2_x = 4.0       # variance for x\n",
    "s2_y = 4.0       # variance for y\n",
    "s_xy = 3.0       # covariance between x and y\n",
    "\n",
    "true_covariance_matrix = [[s2_x,s_xy],[s_xy,s2_y]]\n",
    "# Generate random numbers from a multivariate normal distribution described by the true covariance matrix above\n",
    "samples = np.random.multivariate_normal([xmean,ymean],true_covariance_matrix,N)\n",
    "x=samples[:,0]\n",
    "y=samples[:,1]\n",
    "\n",
    "plt.figure()\n",
    "plt.scatter(x,y)\n",
    "plt.axis('equal')\n",
    "plt.xlabel('x')\n",
    "plt.ylabel('y')\n",
    "plt.show()"
   ]
  },
  {
   "cell_type": "markdown",
   "metadata": {},
   "source": [
    "The code below calculates from the samples an unbiased estimate of the variances of x and y and the covariance $\\sigma_{xy}$."
   ]
  },
  {
   "cell_type": "code",
   "execution_count": 6,
   "metadata": {},
   "outputs": [
    {
     "name": "stdout",
     "output_type": "stream",
     "text": [
      "s2x= 3.081640521488137\n",
      "s2y= 3.112480603400289\n",
      "sxy= 2.074605286118928\n"
     ]
    }
   ],
   "source": [
    "dx=x-x.mean() # Note that numpy arrays know how to evaluate their own mean\n",
    "dy=y-y.mean()\n",
    "\n",
    "s2x = 1/(N-1)*np.sum(dx**2)\n",
    "s2y = 1/(N-1)*np.sum(dy**2)\n",
    "sxy = 1/(N-1)*np.sum(dx*dy)\n",
    "print('s2x=',s2x)\n",
    "print('s2y=',s2y)\n",
    "print('sxy=',sxy)"
   ]
  },
  {
   "cell_type": "code",
   "execution_count": 7,
   "metadata": {},
   "outputs": [
    {
     "data": {
      "image/png": "[encoded data removed]",
      "text/plain": [
       "<Figure size 432x288 with 1 Axes>"
      ]
     },
     "metadata": {
      "needs_background": "light"
     },
     "output_type": "display_data"
    }
   ],
   "source": [
    "# Form the covariance matrix and compute its eigenvalues and eigenvectors\n",
    "sample_covariance_matrix = [[s2x,sxy],[sxy,s2y]]\n",
    "v,Q = np.linalg.eig( sample_covariance_matrix )\n",
    "\n",
    "# plot the data with the eigenvectors, scaled by the eigenvalues\n",
    "fig,ax = plt.subplots(1,1)\n",
    "ax.scatter(x,y)\n",
    "#0th eigenvector scaled by 0th eigenvalue\n",
    "ax.quiver(x.mean(),y.mean(),Q[0,0]*v[0],Q[1,0]*v[0],color='r',scale=1.0,scale_units='x')\n",
    "#1st eigenvector scaled by 1st eigenvalue\n",
    "ax.quiver(x.mean(),y.mean(),Q[0,1]*v[1],Q[1,1]*v[1],color='k',scale=1.0,scale_units='x')\n",
    "\n",
    "ax.set_aspect('equal','box')\n",
    "ax.set_xlabel('x')\n",
    "ax.set_ylabel('y')\n",
    "plt.show()"
   ]
  },
  {
   "cell_type": "code",
   "execution_count": 8,
   "metadata": {},
   "outputs": [
    {
     "name": "stdout",
     "output_type": "stream",
     "text": [
      "Covariance matrix for xp,yp\n",
      ": [[ 1.02239797e+00 -6.68794091e-16]\n",
      " [-6.68794091e-16  5.17172315e+00]]\n"
     ]
    },
    {
     "data": {
      "image/png": "[encoded data removed]",
      "text/plain": [
       "<Figure size 432x288 with 1 Axes>"
      ]
     },
     "metadata": {
      "needs_background": "light"
     },
     "output_type": "display_data"
    }
   ],
   "source": [
    "# compute xp and yp, the representation of x and y in the coordinate system defined by the eigenvectors\n",
    "xy = np.stack([x,y]) # combine x and y in to a 2xN array\n",
    "xpyp = Q.transpose().dot(xy) # calculte x' and y' as Q^T [x; y] (returns 2xN array of x', y' values)\n",
    "print('Covariance matrix for xp,yp\\n:',\n",
    "      np.cov(xpyp[0,:],xpyp[1,:]) )\n",
    "\n",
    "plt.figure()\n",
    "plt.plot(xpyp[0,:],xpyp[1,:],'.')\n",
    "ax=plt.gca()\n",
    "ax.set_aspect('equal','box')\n",
    "plt.show()"
   ]
  },
  {
   "cell_type": "markdown",
   "metadata": {},
   "source": [
    "# Calculate PCA using scikit-learn\n",
    "\n",
    "https://scikit-learn.org/stable/modules/generated/sklearn.decomposition.PCA.html\n",
    "\n",
    "The way to use this function is to\n",
    "1. Create a context/instance of a PCA analysis (think of our_pca as a description of the analysis that will be applied to the data).\n",
    "2. Apply the analysis using our_pca.fit(X). X must have shape (number of data points) x (number of data dimensions)\n",
    "\n",
    "For the 2D example above, X should be Nx2"
   ]
  },
  {
   "cell_type": "code",
   "execution_count": 9,
   "metadata": {},
   "outputs": [
    {
     "name": "stdout",
     "output_type": "stream",
     "text": [
      "Shape of X: (100, 2)\n"
     ]
    },
    {
     "data": {
      "text/plain": [
       "PCA(copy=True, iterated_power='auto', n_components=2, random_state=None,\n",
       "    svd_solver='auto', tol=0.0, whiten=False)"
      ]
     },
     "execution_count": 9,
     "metadata": {},
     "output_type": "execute_result"
    }
   ],
   "source": [
    "from sklearn.decomposition import PCA\n",
    "X = np.stack((x,y)).transpose()\n",
    "print('Shape of X:',X.shape)\n",
    "our_pca = PCA(n_components=2) # This creates a context in which PCA can be performed\n",
    "our_pca.fit(X) #"
   ]
  },
  {
   "cell_type": "code",
   "execution_count": 10,
   "metadata": {},
   "outputs": [
    {
     "data": {
      "image/png": "[encoded data removed]",
      "text/plain": [
       "<Figure size 432x288 with 1 Axes>"
      ]
     },
     "metadata": {
      "needs_background": "light"
     },
     "output_type": "display_data"
    }
   ],
   "source": [
    "xp = our_pca.transform(X)\n",
    "plt.figure()\n",
    "plt.plot(xp[:,0]+our_pca.mean_[0],xp[:,1]+our_pca.mean_[1],'.')\n",
    "plt.show()"
   ]
  },
  {
   "cell_type": "code",
   "execution_count": null,
   "metadata": {},
   "outputs": [],
   "source": [
    "# Print out mean values\n",
    "print('mean values:',our_pca.mean_)\n",
    "# print out variance explained by each component:\n",
    "print('Fraction of variance explained:',our_pca.explained_variance_ratio_)\n",
    "# print out components:\n",
    "print('Components:',our_pca.components_)"
   ]
  },
  {
   "cell_type": "code",
   "execution_count": null,
   "metadata": {},
   "outputs": [],
   "source": []
  }
 ],
 "metadata": {
  "kernelspec": {
   "display_name": "Python 3",
   "language": "python",
   "name": "python3"
  },
  "language_info": {
   "codemirror_mode": {
    "name": "ipython",
    "version": 3
   },
   "file_extension": ".py",
   "mimetype": "text/x-python",
   "name": "python",
   "nbconvert_exporter": "python",
   "pygments_lexer": "ipython3",
   "version": "3.6.8"
  }
 },
 "nbformat": 4,
 "nbformat_minor": 2
}
